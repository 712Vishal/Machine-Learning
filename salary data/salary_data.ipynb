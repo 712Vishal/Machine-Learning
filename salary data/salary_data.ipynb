{
 "cells": [
  {
   "cell_type": "markdown",
   "id": "458e2682",
   "metadata": {},
   "source": [
    "## import all library"
   ]
  },
  {
   "cell_type": "code",
   "execution_count": null,
   "id": "f5c80ffb",
   "metadata": {},
   "outputs": [],
   "source": [
    "import pandas as pd\n",
    "import numpy as np\n",
    "import seaborn as sns\n",
    "import matplotlib.pyplot as plt\n",
    "import warnings\n",
    "warnings.filterwarnings('ignore')"
   ]
  },
  {
   "cell_type": "code",
   "execution_count": null,
   "id": "cff19846",
   "metadata": {},
   "outputs": [],
   "source": [
    "df=pd.read_excel('C:/Users/visha/Desktop/GROW TECH/python/Machine learning/dataset/salary_data.xlsx')"
   ]
  },
  {
   "cell_type": "code",
   "execution_count": null,
   "id": "bc30fdbb",
   "metadata": {},
   "outputs": [],
   "source": [
    "df"
   ]
  },
  {
   "cell_type": "code",
   "execution_count": null,
   "id": "8e29a074",
   "metadata": {},
   "outputs": [],
   "source": [
    "df.shape"
   ]
  },
  {
   "cell_type": "code",
   "execution_count": null,
   "id": "2e355cda",
   "metadata": {},
   "outputs": [],
   "source": [
    "df.info()"
   ]
  },
  {
   "cell_type": "code",
   "execution_count": null,
   "id": "e4cf698d",
   "metadata": {},
   "outputs": [],
   "source": [
    "df.describe()"
   ]
  },
  {
   "cell_type": "code",
   "execution_count": null,
   "id": "d1c1ae22",
   "metadata": {},
   "outputs": [],
   "source": [
    "df.isnull().sum()"
   ]
  },
  {
   "cell_type": "markdown",
   "id": "3f7ec056",
   "metadata": {},
   "source": [
    "## data visualization"
   ]
  },
  {
   "cell_type": "code",
   "execution_count": null,
   "id": "b6522ea3",
   "metadata": {},
   "outputs": [],
   "source": [
    "plt.figure(figsize=(4,3))\n",
    "sns.histplot(data=df,x=\"Salary\")\n",
    "plt.show()"
   ]
  },
  {
   "cell_type": "code",
   "execution_count": null,
   "id": "96a290c1",
   "metadata": {},
   "outputs": [],
   "source": [
    "plt.figure(figsize=(5,3))\n",
    "sns.histplot(data=df,\n",
    "             x=\"Salary\",\n",
    "             y='YearsExperience')\n",
    "plt.show()"
   ]
  },
  {
   "cell_type": "markdown",
   "id": "944d8fe8",
   "metadata": {},
   "source": [
    "## import library sklearn"
   ]
  },
  {
   "cell_type": "code",
   "execution_count": null,
   "id": "9ddddbfc",
   "metadata": {},
   "outputs": [],
   "source": [
    "pip install scikit-learn"
   ]
  },
  {
   "cell_type": "markdown",
   "id": "3442d6bd",
   "metadata": {},
   "source": [
    "## split inti dependent and independent variable"
   ]
  },
  {
   "cell_type": "code",
   "execution_count": null,
   "id": "2f049a19",
   "metadata": {},
   "outputs": [],
   "source": [
    "x=df[['YearsExperience']]\n",
    "y=df['Salary']"
   ]
  },
  {
   "cell_type": "code",
   "execution_count": null,
   "id": "1c00c540",
   "metadata": {},
   "outputs": [],
   "source": [
    "x"
   ]
  },
  {
   "cell_type": "markdown",
   "id": "56737f5f",
   "metadata": {},
   "source": [
    "## Split into training and testing"
   ]
  },
  {
   "cell_type": "code",
   "execution_count": null,
   "id": "8c36a1a4",
   "metadata": {},
   "outputs": [],
   "source": [
    "from sklearn.model_selection import train_test_split\n",
    "x_train,x_test,y_train,y_test= train_test_split(x,y,test_size=0.3)"
   ]
  },
  {
   "cell_type": "code",
   "execution_count": null,
   "id": "164e2f6d",
   "metadata": {},
   "outputs": [],
   "source": [
    "print(x_train.shape,x_test.shape)"
   ]
  },
  {
   "cell_type": "markdown",
   "id": "93654aaf",
   "metadata": {},
   "source": [
    "# Model building"
   ]
  },
  {
   "cell_type": "code",
   "execution_count": null,
   "id": "5167b080",
   "metadata": {},
   "outputs": [],
   "source": [
    "from sklearn.linear_model import LinearRegression\n",
    "lr_model=LinearRegression()\n",
    "lr_model.fit(x_train,y_train)"
   ]
  },
  {
   "cell_type": "markdown",
   "id": "bfdc9810",
   "metadata": {},
   "source": [
    "# prediction"
   ]
  },
  {
   "cell_type": "code",
   "execution_count": null,
   "id": "24592182",
   "metadata": {},
   "outputs": [],
   "source": [
    "y_pred = lr_model.predict(x_test)\n",
    "y_pred"
   ]
  },
  {
   "cell_type": "code",
   "execution_count": null,
   "id": "23cfee6b",
   "metadata": {},
   "outputs": [],
   "source": [
    "y_test"
   ]
  },
  {
   "cell_type": "code",
   "execution_count": null,
   "id": "3f41c3c0",
   "metadata": {},
   "outputs": [],
   "source": [
    "comp_df=pd.DataFrame({'Actual':y_test,\"Predicted\":y_pred})\n",
    "comp_df"
   ]
  },
  {
   "cell_type": "code",
   "execution_count": null,
   "id": "d7eed0f1",
   "metadata": {},
   "outputs": [],
   "source": [
    "# Train data model\n",
    "lr_model.score(x_train,y_train)"
   ]
  },
  {
   "cell_type": "code",
   "execution_count": null,
   "id": "e70baee5",
   "metadata": {},
   "outputs": [],
   "source": []
  },
  {
   "cell_type": "code",
   "execution_count": null,
   "id": "5acd8be6",
   "metadata": {},
   "outputs": [],
   "source": [
    "# testing data accuracy\n",
    "lr_model.score(x_test,y_test)"
   ]
  }
 ],
 "metadata": {
  "kernelspec": {
   "display_name": "Python 3",
   "language": "python",
   "name": "python3"
  },
  "language_info": {
   "codemirror_mode": {
    "name": "ipython",
    "version": 3
   },
   "file_extension": ".py",
   "mimetype": "text/x-python",
   "name": "python",
   "nbconvert_exporter": "python",
   "pygments_lexer": "ipython3",
   "version": "3.12.4"
  }
 },
 "nbformat": 4,
 "nbformat_minor": 5
}
